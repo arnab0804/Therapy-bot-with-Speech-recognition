{
 "cells": [
  {
   "cell_type": "code",
   "execution_count": null,
   "metadata": {},
   "outputs": [],
   "source": [
    "import numpy as np\n",
    "import nltk\n",
    "import random\n",
    "import string\n",
    "from nltk.corpus import stopwords\n",
    "import urllib.request\n",
    "from bs4 import BeautifulSoup\n",
    "import speech_recognition as sr\n",
    "import pyttsx3\n",
    "from gtts import gTTS\n",
    "from playsound import playsound\n",
    "from pandas import read_csv\n",
    "import csv"
   ]
  },
  {
   "cell_type": "code",
   "execution_count": null,
   "metadata": {},
   "outputs": [],
   "source": [
    "raw_doc_read=read_csv('train.csv')\n",
    "\n",
    "txt_file='data.txt'\n",
    "csv_file='train.csv'\n",
    "\n",
    "with open(txt_file, \"w\") as my_output_file:\n",
    "    with open(csv_file, \"r\",errors='ignore') as my_input_file:\n",
    "        [ my_output_file.write(\" \".join(row)+'\\n') for row in csv.reader(my_input_file)]\n",
    "    my_output_file.close()\n",
    "\n",
    "doc_read=open('data.txt','r')\n",
    "raw_doc_read=doc_read.read()"
   ]
  },
  {
   "cell_type": "code",
   "execution_count": null,
   "metadata": {},
   "outputs": [],
   "source": [
    "lang='en'\n",
    "tld='co.uk'"
   ]
  },
  {
   "cell_type": "code",
   "execution_count": null,
   "metadata": {},
   "outputs": [],
   "source": [
    "# raw_doc_read=raw_doc_read.lower()\n",
    "nltk.download('punkt')\n",
    "nltk.download('wordnet')\n",
    "nltk.download('omw-1.4')\n",
    "nltk.download('stopwords')"
   ]
  },
  {
   "cell_type": "code",
   "execution_count": null,
   "metadata": {},
   "outputs": [],
   "source": [
    "sent_tokens=nltk.sent_tokenize(raw_doc_read)\n",
    "word_tokens=nltk.word_tokenize(raw_doc_read)"
   ]
  },
  {
   "cell_type": "code",
   "execution_count": null,
   "metadata": {},
   "outputs": [],
   "source": [
    "lemmer=nltk.stem.WordNetLemmatizer()\n",
    "\n",
    "def lemTokens(tokens):\n",
    "    return [lemmer.lemmatize(token) for token in tokens]\n",
    "\n",
    "no_punc_dict=dict((ord(punct), None) for punct in string.punctuation)\n",
    "\n",
    "def lemNormalize(txt):\n",
    "    return lemTokens(nltk.word_tokenize(txt.lower().translate(no_punc_dict)))"
   ]
  },
  {
   "cell_type": "code",
   "execution_count": null,
   "metadata": {},
   "outputs": [],
   "source": [
    "greetings=('hi','hello','hey')\n",
    "greeting_resp=('Hello!','Hi!','Hey!','Hey there!')\n",
    "\n",
    "def greet(sentence):\n",
    "    for word in sentence.lower().split():\n",
    "        if word in greetings:\n",
    "            return random.choice(greeting_resp)+' I am Rikuduo.'"
   ]
  },
  {
   "cell_type": "code",
   "execution_count": null,
   "metadata": {},
   "outputs": [],
   "source": [
    "from sklearn.feature_extraction.text import TfidfVectorizer\n",
    "from sklearn.metrics.pairwise import cosine_similarity"
   ]
  },
  {
   "cell_type": "code",
   "execution_count": null,
   "metadata": {},
   "outputs": [],
   "source": [
    "def botResponse(user_input):\n",
    "    robo_response=''\n",
    "    tfid_vec=TfidfVectorizer(tokenizer=lemNormalize,stop_words=stopwords.words('english'))\n",
    "    tfid_fit=tfid_vec.fit_transform(sent_tokens)\n",
    "    values=cosine_similarity(tfid_fit[-1],tfid_fit)\n",
    "\n",
    "    index=values.argsort()[0][-2]\n",
    "    flat=values.flatten()\n",
    "    flat.sort()\n",
    "    req_tfidfit=flat[-2]\n",
    "    if(req_tfidfit==0):\n",
    "        robo_response+='Sorry. I am unable to understand you.'\n",
    "        return robo_response\n",
    "    else:\n",
    "        robo_response+=sent_tokens[index]\n",
    "        return robo_response"
   ]
  },
  {
   "cell_type": "code",
   "execution_count": null,
   "metadata": {},
   "outputs": [],
   "source": [
    "recognizer=sr.Recognizer()\n",
    "def SpeakText(command):\n",
    "    engine=pyttsx3.init()\n",
    "    engine.say(command)\n",
    "    engine.runAndWait()"
   ]
  },
  {
   "cell_type": "code",
   "execution_count": null,
   "metadata": {},
   "outputs": [],
   "source": [
    "def botVoice(bot_resp):\n",
    "    audio_obj=gTTS(text=bot_resp,lang=lang,slow=False,tld=tld)\n",
    "    audio_obj.save('response.mp3')\n",
    "    playsound('D:/VSCode(Chatbot)/response.mp3')"
   ]
  },
  {
   "cell_type": "code",
   "execution_count": null,
   "metadata": {},
   "outputs": [],
   "source": [
    "flag=True\n",
    "print('Hello! This is Rikuduo Bot. To start, greet me and to end, type bye!')\n",
    "botVoice('Hello! This is Rikuduo Bot. To start, greet me and to end, type bye!')"
   ]
  },
  {
   "cell_type": "code",
   "execution_count": null,
   "metadata": {},
   "outputs": [],
   "source": [
    "while(flag):\n",
    "    print('Start speaking: ')\n",
    "    with sr.Microphone() as source:\n",
    "        recognizer.adjust_for_ambient_noise(source,duration=0.2)\n",
    "        audio=recognizer.listen(source)\n",
    "\n",
    "        user_input=recognizer.recognize_google(audio)\n",
    "        user_input=user_input.lower()\n",
    "    print(\"User: \"+user_input)\n",
    "    if(user_input!='bye'):\n",
    "        if(user_input=='thank you' or user_input=='thanks'):\n",
    "            print('Rikuduo: You are welcome!')\n",
    "            botVoice('You are welcome')\n",
    "        else:\n",
    "            if(greet(user_input)!=None):\n",
    "                bot_resp=greet(user_input)\n",
    "                print('Rikuduo: '+bot_resp)\n",
    "                botVoice(bot_resp)\n",
    "            else:\n",
    "                sent_tokens.append(user_input)\n",
    "                word_tokens=word_tokens+nltk.word_tokenize(user_input)\n",
    "                final_words=list(set(word_tokens))\n",
    "                print('Rikuduo: ',end='')\n",
    "                bot_resp=botResponse(user_input)\n",
    "                print(bot_resp)\n",
    "                botVoice(bot_resp)\n",
    "\n",
    "                sent_tokens.remove(user_input)\n",
    "    else:\n",
    "        flag=False\n",
    "        print('Rikuduo: Goodbye!')"
   ]
  }
 ],
 "metadata": {
  "kernelspec": {
   "display_name": "Python 3",
   "language": "python",
   "name": "python3"
  },
  "language_info": {
   "codemirror_mode": {
    "name": "ipython",
    "version": 3
   },
   "file_extension": ".py",
   "mimetype": "text/x-python",
   "name": "python",
   "nbconvert_exporter": "python",
   "pygments_lexer": "ipython3",
   "version": "3.11.7"
  }
 },
 "nbformat": 4,
 "nbformat_minor": 2
}
